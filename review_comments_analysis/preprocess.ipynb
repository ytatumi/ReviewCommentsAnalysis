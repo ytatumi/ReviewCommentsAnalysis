{
 "cells": [
  {
   "cell_type": "code",
   "execution_count": 1,
   "metadata": {},
   "outputs": [],
   "source": [
    "import catboost as cb\n",
    "import numpy as np\n",
    "import pandas as pd\n",
    "import seaborn as sns\n",
    "import matplotlib.pyplot as plt\n",
    "\n",
    "import nltk\n",
    "from wordcloud import WordCloud,STOPWORDS\n",
    "from nltk.corpus import stopwords\n",
    "from nltk.stem import WordNetLemmatizer\n",
    "import string\n",
    "import re\n"
   ]
  },
  {
   "cell_type": "code",
   "execution_count": 2,
   "metadata": {},
   "outputs": [],
   "source": [
    "review_df=pd.read_csv(\"hospital_review.csv\", index_col=[0])"
   ]
  },
  {
   "cell_type": "code",
   "execution_count": 3,
   "metadata": {},
   "outputs": [
    {
     "data": {
      "text/html": [
       "<div>\n",
       "<style scoped>\n",
       "    .dataframe tbody tr th:only-of-type {\n",
       "        vertical-align: middle;\n",
       "    }\n",
       "\n",
       "    .dataframe tbody tr th {\n",
       "        vertical-align: top;\n",
       "    }\n",
       "\n",
       "    .dataframe thead th {\n",
       "        text-align: right;\n",
       "    }\n",
       "</style>\n",
       "<table border=\"1\" class=\"dataframe\">\n",
       "  <thead>\n",
       "    <tr style=\"text-align: right;\">\n",
       "      <th></th>\n",
       "      <th>star</th>\n",
       "      <th>review_content</th>\n",
       "    </tr>\n",
       "  </thead>\n",
       "  <tbody>\n",
       "    <tr>\n",
       "      <th>0</th>\n",
       "      <td>5</td>\n",
       "      <td>In for a minor operation. Not long to wait bef...</td>\n",
       "    </tr>\n",
       "    <tr>\n",
       "      <th>1</th>\n",
       "      <td>5</td>\n",
       "      <td>Fantastic team at York stroke clinic really lo...</td>\n",
       "    </tr>\n",
       "    <tr>\n",
       "      <th>2</th>\n",
       "      <td>5</td>\n",
       "      <td>Huge thanks to the opthalmology team on this m...</td>\n",
       "    </tr>\n",
       "    <tr>\n",
       "      <th>3</th>\n",
       "      <td>1</td>\n",
       "      <td>Underfunded by the Conservatives.</td>\n",
       "    </tr>\n",
       "    <tr>\n",
       "      <th>4</th>\n",
       "      <td>5</td>\n",
       "      <td>Good experience in ED</td>\n",
       "    </tr>\n",
       "  </tbody>\n",
       "</table>\n",
       "</div>"
      ],
      "text/plain": [
       "   star                                     review_content\n",
       "0     5  In for a minor operation. Not long to wait bef...\n",
       "1     5  Fantastic team at York stroke clinic really lo...\n",
       "2     5  Huge thanks to the opthalmology team on this m...\n",
       "3     1                  Underfunded by the Conservatives.\n",
       "4     5                              Good experience in ED"
      ]
     },
     "execution_count": 3,
     "metadata": {},
     "output_type": "execute_result"
    }
   ],
   "source": [
    "review_df.head()"
   ]
  },
  {
   "attachments": {},
   "cell_type": "markdown",
   "metadata": {},
   "source": [
    "#### Text Cleaning, Tokenization & Lemmatization"
   ]
  },
  {
   "cell_type": "code",
   "execution_count": 4,
   "metadata": {},
   "outputs": [],
   "source": [
    "pattern = re.compile(r\"(\\w+)n't\")\n",
    "\n",
    "def expand_contractions(match):\n",
    "    expanded = match.group(1) + \" not\"\n",
    "    return expanded\n",
    "\n",
    "def expanded_text(text):\n",
    "    return  re.sub(pattern, expand_contractions, text)\n",
    "\n"
   ]
  },
  {
   "cell_type": "code",
   "execution_count": 5,
   "metadata": {},
   "outputs": [
    {
     "name": "stderr",
     "output_type": "stream",
     "text": [
      "[nltk_data] Downloading package stopwords to\n",
      "[nltk_data]     C:\\Users\\y_tat\\AppData\\Roaming\\nltk_data...\n",
      "[nltk_data]   Package stopwords is already up-to-date!\n"
     ]
    },
    {
     "data": {
      "text/plain": [
       "True"
      ]
     },
     "execution_count": 5,
     "metadata": {},
     "output_type": "execute_result"
    }
   ],
   "source": [
    "nltk.download('stopwords')"
   ]
  },
  {
   "cell_type": "code",
   "execution_count": 6,
   "metadata": {},
   "outputs": [],
   "source": [
    "def preprocess(x):\n",
    "    stop = set(stopwords.words('english') + list(string.punctuation)) - set([\"not\"])\n",
    "    x =x.lower()\n",
    "    x = x.replace(\"can't\",\"can not\")\n",
    "    x = x.replace(\"waiting\", \"wait\")\n",
    "    x = x.replace(\"caring\", \"care\")\n",
    "    x = expanded_text(x)\n",
    "    tokenizer= nltk.TweetTokenizer()\n",
    "    word_list = tokenizer.tokenize(x)\n",
    "    lemmatizer = WordNetLemmatizer()\n",
    "    lemmatized_output = ' '.join([lemmatizer.lemmatize(re.sub(r\"\\bdr\\b\", \"doctor\", w))for w in word_list if w not in stop])\n",
    "    return lemmatized_output\n"
   ]
  },
  {
   "cell_type": "code",
   "execution_count": 7,
   "metadata": {},
   "outputs": [],
   "source": [
    "review_df['review_preprocessed'] = review_df['review_content'].apply(preprocess) "
   ]
  },
  {
   "cell_type": "code",
   "execution_count": 8,
   "metadata": {},
   "outputs": [
    {
     "data": {
      "text/html": [
       "<div>\n",
       "<style scoped>\n",
       "    .dataframe tbody tr th:only-of-type {\n",
       "        vertical-align: middle;\n",
       "    }\n",
       "\n",
       "    .dataframe tbody tr th {\n",
       "        vertical-align: top;\n",
       "    }\n",
       "\n",
       "    .dataframe thead th {\n",
       "        text-align: right;\n",
       "    }\n",
       "</style>\n",
       "<table border=\"1\" class=\"dataframe\">\n",
       "  <thead>\n",
       "    <tr style=\"text-align: right;\">\n",
       "      <th></th>\n",
       "      <th>star</th>\n",
       "      <th>review_content</th>\n",
       "      <th>review_preprocessed</th>\n",
       "    </tr>\n",
       "  </thead>\n",
       "  <tbody>\n",
       "    <tr>\n",
       "      <th>0</th>\n",
       "      <td>5</td>\n",
       "      <td>In for a minor operation. Not long to wait bef...</td>\n",
       "      <td>minor operation not long wait operation care s...</td>\n",
       "    </tr>\n",
       "    <tr>\n",
       "      <th>1</th>\n",
       "      <td>5</td>\n",
       "      <td>Fantastic team at York stroke clinic really lo...</td>\n",
       "      <td>fantastic team york stroke clinic really looke...</td>\n",
       "    </tr>\n",
       "    <tr>\n",
       "      <th>2</th>\n",
       "      <td>5</td>\n",
       "      <td>Huge thanks to the opthalmology team on this m...</td>\n",
       "      <td>huge thanks opthalmology team morning</td>\n",
       "    </tr>\n",
       "    <tr>\n",
       "      <th>3</th>\n",
       "      <td>1</td>\n",
       "      <td>Underfunded by the Conservatives.</td>\n",
       "      <td>underfunded conservative</td>\n",
       "    </tr>\n",
       "    <tr>\n",
       "      <th>4</th>\n",
       "      <td>5</td>\n",
       "      <td>Good experience in ED</td>\n",
       "      <td>good experience ed</td>\n",
       "    </tr>\n",
       "  </tbody>\n",
       "</table>\n",
       "</div>"
      ],
      "text/plain": [
       "   star                                     review_content   \n",
       "0     5  In for a minor operation. Not long to wait bef...  \\\n",
       "1     5  Fantastic team at York stroke clinic really lo...   \n",
       "2     5  Huge thanks to the opthalmology team on this m...   \n",
       "3     1                  Underfunded by the Conservatives.   \n",
       "4     5                              Good experience in ED   \n",
       "\n",
       "                                 review_preprocessed  \n",
       "0  minor operation not long wait operation care s...  \n",
       "1  fantastic team york stroke clinic really looke...  \n",
       "2              huge thanks opthalmology team morning  \n",
       "3                           underfunded conservative  \n",
       "4                                 good experience ed  "
      ]
     },
     "execution_count": 8,
     "metadata": {},
     "output_type": "execute_result"
    }
   ],
   "source": [
    "review_df.head()"
   ]
  },
  {
   "cell_type": "code",
   "execution_count": 9,
   "metadata": {},
   "outputs": [
    {
     "data": {
      "text/plain": [
       "star                   0\n",
       "review_content         0\n",
       "review_preprocessed    0\n",
       "dtype: int64"
      ]
     },
     "execution_count": 9,
     "metadata": {},
     "output_type": "execute_result"
    }
   ],
   "source": [
    "review_df.isna().sum()"
   ]
  },
  {
   "cell_type": "code",
   "execution_count": 17,
   "metadata": {},
   "outputs": [
    {
     "data": {
      "text/html": [
       "<div>\n",
       "<style scoped>\n",
       "    .dataframe tbody tr th:only-of-type {\n",
       "        vertical-align: middle;\n",
       "    }\n",
       "\n",
       "    .dataframe tbody tr th {\n",
       "        vertical-align: top;\n",
       "    }\n",
       "\n",
       "    .dataframe thead th {\n",
       "        text-align: right;\n",
       "    }\n",
       "</style>\n",
       "<table border=\"1\" class=\"dataframe\">\n",
       "  <thead>\n",
       "    <tr style=\"text-align: right;\">\n",
       "      <th></th>\n",
       "      <th>star</th>\n",
       "      <th>review_content</th>\n",
       "      <th>review_preprocessed</th>\n",
       "    </tr>\n",
       "  </thead>\n",
       "  <tbody>\n",
       "    <tr>\n",
       "      <th>0</th>\n",
       "      <td>5</td>\n",
       "      <td>In for a minor operation. Not long to wait bef...</td>\n",
       "      <td>minor operation not long wait operation care s...</td>\n",
       "    </tr>\n",
       "    <tr>\n",
       "      <th>1</th>\n",
       "      <td>5</td>\n",
       "      <td>Fantastic team at York stroke clinic really lo...</td>\n",
       "      <td>fantastic team york stroke clinic really looke...</td>\n",
       "    </tr>\n",
       "    <tr>\n",
       "      <th>2</th>\n",
       "      <td>5</td>\n",
       "      <td>Huge thanks to the opthalmology team on this m...</td>\n",
       "      <td>huge thanks opthalmology team morning</td>\n",
       "    </tr>\n",
       "    <tr>\n",
       "      <th>3</th>\n",
       "      <td>1</td>\n",
       "      <td>Underfunded by the Conservatives.</td>\n",
       "      <td>underfunded conservative</td>\n",
       "    </tr>\n",
       "    <tr>\n",
       "      <th>4</th>\n",
       "      <td>5</td>\n",
       "      <td>Good experience in ED</td>\n",
       "      <td>good experience ed</td>\n",
       "    </tr>\n",
       "    <tr>\n",
       "      <th>...</th>\n",
       "      <td>...</td>\n",
       "      <td>...</td>\n",
       "      <td>...</td>\n",
       "    </tr>\n",
       "    <tr>\n",
       "      <th>300</th>\n",
       "      <td>5</td>\n",
       "      <td>Amazing hospital. I had major stomach surgery ...</td>\n",
       "      <td>amazing hospital major stomach surgery york ho...</td>\n",
       "    </tr>\n",
       "    <tr>\n",
       "      <th>301</th>\n",
       "      <td>4</td>\n",
       "      <td>Great staff as is found throughout NHS.\\nNot e...</td>\n",
       "      <td>great staff found throughout nh not enough vis...</td>\n",
       "    </tr>\n",
       "    <tr>\n",
       "      <th>305</th>\n",
       "      <td>5</td>\n",
       "      <td>Went to A&amp;E at 09.30hrs with swollen face thin...</td>\n",
       "      <td>went e 09.30 hr swollen face thinking infectio...</td>\n",
       "    </tr>\n",
       "    <tr>\n",
       "      <th>307</th>\n",
       "      <td>5</td>\n",
       "      <td>never been but its a hospital and it sounds li...</td>\n",
       "      <td>never hospital sound like favourite cocolate b...</td>\n",
       "    </tr>\n",
       "    <tr>\n",
       "      <th>309</th>\n",
       "      <td>5</td>\n",
       "      <td>Do an Absolutely fantastic job especially sinc...</td>\n",
       "      <td>absolutely fantastic job especially since dama...</td>\n",
       "    </tr>\n",
       "  </tbody>\n",
       "</table>\n",
       "<p>205 rows × 3 columns</p>\n",
       "</div>"
      ],
      "text/plain": [
       "     star                                     review_content   \n",
       "0       5  In for a minor operation. Not long to wait bef...  \\\n",
       "1       5  Fantastic team at York stroke clinic really lo...   \n",
       "2       5  Huge thanks to the opthalmology team on this m...   \n",
       "3       1                  Underfunded by the Conservatives.   \n",
       "4       5                              Good experience in ED   \n",
       "..    ...                                                ...   \n",
       "300     5  Amazing hospital. I had major stomach surgery ...   \n",
       "301     4  Great staff as is found throughout NHS.\\nNot e...   \n",
       "305     5  Went to A&E at 09.30hrs with swollen face thin...   \n",
       "307     5  never been but its a hospital and it sounds li...   \n",
       "309     5  Do an Absolutely fantastic job especially sinc...   \n",
       "\n",
       "                                   review_preprocessed  \n",
       "0    minor operation not long wait operation care s...  \n",
       "1    fantastic team york stroke clinic really looke...  \n",
       "2                huge thanks opthalmology team morning  \n",
       "3                             underfunded conservative  \n",
       "4                                   good experience ed  \n",
       "..                                                 ...  \n",
       "300  amazing hospital major stomach surgery york ho...  \n",
       "301  great staff found throughout nh not enough vis...  \n",
       "305  went e 09.30 hr swollen face thinking infectio...  \n",
       "307  never hospital sound like favourite cocolate b...  \n",
       "309  absolutely fantastic job especially since dama...  \n",
       "\n",
       "[205 rows x 3 columns]"
      ]
     },
     "execution_count": 17,
     "metadata": {},
     "output_type": "execute_result"
    }
   ],
   "source": [
    "review_df[review_df[\"review_preprocessed\"]!=\"\"]"
   ]
  },
  {
   "cell_type": "code",
   "execution_count": 21,
   "metadata": {},
   "outputs": [],
   "source": [
    "review_df.to_csv(\"hospital_review_afterpreprocessed.csv\")"
   ]
  },
  {
   "cell_type": "code",
   "execution_count": null,
   "metadata": {},
   "outputs": [],
   "source": []
  }
 ],
 "metadata": {
  "kernelspec": {
   "display_name": "project_env",
   "language": "python",
   "name": "python3"
  },
  "language_info": {
   "codemirror_mode": {
    "name": "ipython",
    "version": 3
   },
   "file_extension": ".py",
   "mimetype": "text/x-python",
   "name": "python",
   "nbconvert_exporter": "python",
   "pygments_lexer": "ipython3",
   "version": "3.10.10"
  },
  "orig_nbformat": 4,
  "vscode": {
   "interpreter": {
    "hash": "d2b8bcace120c19e50947417def1afb4256dbb9e3fe82ab0ce782bc4b12586f3"
   }
  }
 },
 "nbformat": 4,
 "nbformat_minor": 2
}
