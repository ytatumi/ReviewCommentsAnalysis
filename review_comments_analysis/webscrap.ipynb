{
 "cells": [
  {
   "cell_type": "code",
   "execution_count": 1,
   "metadata": {},
   "outputs": [],
   "source": [
    "from selenium import webdriver\n",
    "from selenium.webdriver.common.by import By\n",
    "from bs4 import BeautifulSoup\n",
    "from selenium.webdriver.chrome.options import Options\n",
    "from selenium.webdriver.common.action_chains import ActionChains\n",
    "from selenium.webdriver.support.ui import WebDriverWait\n",
    "from selenium.webdriver.support import expected_conditions as EC\n",
    "import time\n",
    "import pandas as pd\n",
    "from webdriver_manager.chrome import ChromeDriverManager\n",
    "from selenium.webdriver.chrome.service import Service as ChromeService"
   ]
  },
  {
   "cell_type": "code",
   "execution_count": 2,
   "metadata": {},
   "outputs": [
    {
     "name": "stderr",
     "output_type": "stream",
     "text": [
      "[WDM] - Downloading: 100%|██████████| 6.81M/6.81M [00:00<00:00, 23.1MB/s]\n"
     ]
    }
   ],
   "source": [
    "service = ChromeService(executable_path=ChromeDriverManager().install())"
   ]
  },
  {
   "cell_type": "code",
   "execution_count": 3,
   "metadata": {},
   "outputs": [],
   "source": [
    "driver = webdriver.Chrome(service=service)\n",
    "url ='https://www.google.com/maps/place/York+Hospital/@53.9634251,-1.0954656,14z/data=!4m18!1m9!3m8!1s0x487931a5d58341b1:0x97daca52f7800d35!2sYork+Minster!8m2!3d53.9623292!4d-1.0819205!9m1!1b1!16zL20vMGptczE!3m7!1s0x487931a1db7f2029:0xbb7ef99dc5f7ebc4!8m2!3d53.9699817!4d-1.083555!9m1!1b1!16s%2Fm%2F0gvrhzd'\n",
    "driver.get(url)\n",
    "driver.find_element(By.CSS_SELECTOR, \"[aria-label='Godkänn alla']\").click()"
   ]
  },
  {
   "cell_type": "code",
   "execution_count": 4,
   "metadata": {},
   "outputs": [],
   "source": [
    "driver.find_element(By.CLASS_NAME, \"HQzyZ\").click()\n",
    "recent = driver.find_elements(By.XPATH, '//div[@role=\\'menuitemradio\\']')[1]\n",
    "recent.click()\n",
    "time.sleep(5)"
   ]
  },
  {
   "cell_type": "code",
   "execution_count": 5,
   "metadata": {},
   "outputs": [],
   "source": [
    "\n",
    "for i in range(0,30):\n",
    "        scrollable_div = driver.find_elements(By.CLASS_NAME,'DU9Pgb') \n",
    "        div_i = scrollable_div[len(scrollable_div)-1]\n",
    "        driver.execute_script('arguments[0].scrollIntoView()', div_i)\n",
    "        time.sleep(1)\n"
   ]
  },
  {
   "cell_type": "code",
   "execution_count": 6,
   "metadata": {},
   "outputs": [],
   "source": [
    "num=len(WebDriverWait(driver,30).until(EC.visibility_of_all_elements_located((By.CSS_SELECTOR, \"[aria-label^='Visa mer']\"))))\n",
    "for i in range(num):\n",
    "    button=driver.find_element(By.CSS_SELECTOR,  \"[aria-label^='Visa mer']\")\n",
    "    driver.implicitly_wait(10)\n",
    "    ActionChains(driver).move_to_element(button).click(button).perform()"
   ]
  },
  {
   "cell_type": "code",
   "execution_count": 7,
   "metadata": {},
   "outputs": [],
   "source": [
    "response = BeautifulSoup(driver.page_source, 'html.parser')"
   ]
  },
  {
   "cell_type": "code",
   "execution_count": 8,
   "metadata": {},
   "outputs": [],
   "source": [
    "star_list =[]\n",
    "review_contents_list = []\n",
    "\n",
    "for i in response.find_all  (\"div\",{\"class\": \"DU9Pgb\"}):\n",
    "    star = i.find(\"span\",{\"role\":\"img\"})\n",
    "    star_num=0\n",
    "    for image in i.find_all('img',{\"class\":\"hCCjke vzX5Ic\"}):\n",
    "        star_num +=1\n",
    "    star_list.append(star_num)\n",
    "\n",
    "    if i.find_next_sibling(\"div\").find(\"div\", {\"class\":\"MyEned\"}):\n",
    "        review_contents = i.find_next_sibling(\"div\").find(\"span\", {\"class\":\"wiI7pd\"}).getText()\n",
    "    else:\n",
    "        review_contents=\"\"\n",
    "    review_contents_list.append(review_contents)\n",
    "        \n",
    "\n",
    "zipped = list (zip(star_list, review_contents_list))\n",
    "hospital_review = pd.DataFrame(zipped, columns=['star', 'review_content'])"
   ]
  },
  {
   "cell_type": "code",
   "execution_count": 10,
   "metadata": {},
   "outputs": [],
   "source": [
    "hospital_review = hospital_review[hospital_review[\"review_content\"]!=\"\"]"
   ]
  },
  {
   "cell_type": "code",
   "execution_count": 12,
   "metadata": {},
   "outputs": [],
   "source": [
    "hospital_review.to_csv(\"hospital_review.csv\")"
   ]
  },
  {
   "attachments": {},
   "cell_type": "markdown",
   "metadata": {},
   "source": [
    "Reference \n",
    "https://towardsdatascience.com/scraping-google-maps-reviews-in-python-2b153c655fc2\n",
    "https://medium.com/@isguzarsezgin/scraping-google-reviews-with-selenium-python-23135ffcc331"
   ]
  }
 ],
 "metadata": {
  "kernelspec": {
   "display_name": "project_env",
   "language": "python",
   "name": "python3"
  },
  "language_info": {
   "codemirror_mode": {
    "name": "ipython",
    "version": 3
   },
   "file_extension": ".py",
   "mimetype": "text/x-python",
   "name": "python",
   "nbconvert_exporter": "python",
   "pygments_lexer": "ipython3",
   "version": "3.10.10"
  },
  "orig_nbformat": 4,
  "vscode": {
   "interpreter": {
    "hash": "d2b8bcace120c19e50947417def1afb4256dbb9e3fe82ab0ce782bc4b12586f3"
   }
  }
 },
 "nbformat": 4,
 "nbformat_minor": 2
}
